{
 "cells": [
  {
   "cell_type": "code",
   "execution_count": null,
   "metadata": {},
   "outputs": [],
   "source": [
    "import json\n",
    "\n",
    "# pass.json stores the data for each iteration of our\n",
    "# optimiser which created the reactor configuration we \n",
    "# expected.\n",
    "with open(\"pass.json\", \"r\") as f:\n",
    "    pass_array = json.load(f)\n",
    "\n",
    "# fail.json stores the data for each iteration of our\n",
    "# optimiser which created the reactor configuration we \n",
    "# did not expect.\n",
    "with open(\"fail.json\", \"r\") as f:\n",
    "    fail_array = json.load(f)\n",
    "\n",
    "# states of the optimiser when we start to see solution divergence\n",
    "pass6 = pass_array[5]\n",
    "fail6 = fail_array[5]"
   ]
  },
  {
   "cell_type": "code",
   "execution_count": null,
   "metadata": {},
   "outputs": [],
   "source": [
    "import numpy as np\n",
    "\n",
    "# show both that we have the same initial state...\n",
    "assert pass6[\"f\"] == fail6[\"f\"]\n",
    "assert np.array_equal(np.array(pass6[\"x\"]), np.array(fail6[\"x\"]))\n",
    "assert np.array_equal(np.array(pass6[\"B\"]), np.array(fail6[\"B\"]))\n",
    "assert np.array_equal(np.array(pass6[\"df\"]), np.array(fail6[\"df\"]))\n",
    "assert np.array_equal(np.array(pass6[\"deq\"]), np.array(fail6[\"deq\"]))\n",
    "assert np.array_equal(np.array(pass6[\"eq\"]), np.array(fail6[\"eq\"]))\n",
    "assert np.array_equal(np.array(pass6[\"lbs\"]), np.array(fail6[\"lbs\"]))\n",
    "assert np.array_equal(np.array(pass6[\"ubs\"]), np.array(fail6[\"ubs\"]))"
   ]
  },
  {
   "cell_type": "code",
   "execution_count": null,
   "metadata": {},
   "outputs": [],
   "source": [
    "# ... but get two different solutions to the qsp\n",
    "if not np.array_equal(np.array(pass6[\"delta\"]), np.array(fail6[\"delta\"])):\n",
    "    print(\"Delta arrays NOT the same\")\n",
    "else:\n",
    "    print(\"Delta arrays the same\")"
   ]
  },
  {
   "cell_type": "code",
   "execution_count": null,
   "metadata": {},
   "outputs": [],
   "source": [
    "f = pass6[\"f\"]\n",
    "x = np.array(pass6[\"x\"])\n",
    "B = np.array(pass6[\"B\"])\n",
    "df = np.array(pass6[\"df\"])\n",
    "deq = np.array(pass6[\"deq\"])\n",
    "eq = np.array(pass6[\"eq\"])\n",
    "lbs = np.array(pass6[\"lbs\"])\n",
    "ubs = np.array(pass6[\"ubs\"])"
   ]
  },
  {
   "cell_type": "code",
   "execution_count": null,
   "metadata": {},
   "outputs": [],
   "source": [
    "import cvxpy as cp\n",
    "\n",
    "# np.random.seed(42)\n",
    "\n",
    "solutions = []\n",
    "\n",
    "for i in range(100):\n",
    "    # seeding doesn't seem to remove this non-determinism :(\n",
    "    np.random.seed(42)\n",
    "\n",
    "    # recreate `solve_qsp` in https://github.com/ukaea/PyVMCON/blob/main/src/pyvmcon/vmcon.py#L184C4-L184C4\n",
    "    # where we are observing this non-determinism.\n",
    "    \n",
    "    delta = cp.Variable(x.shape)\n",
    "    problem_statement = cp.Minimize(\n",
    "        f\n",
    "        + (0.5 * cp.quad_form(delta, B, assume_PSD=True))\n",
    "        + (delta.T @ df)\n",
    "    )\n",
    "\n",
    "    constraints = []\n",
    "    constraints.append(x + delta >= lbs)\n",
    "    constraints.append(x + delta <= ubs)\n",
    "    constraints.append((deq @ delta) + eq == 0)\n",
    "\n",
    "    qsp = cp.Problem(problem_statement, constraints or None)\n",
    "    qsp.solve(verbose=True, solver=cp.OSQP, eps_rel=1e-1)\n",
    "\n",
    "    for e in solutions:\n",
    "        if np.array_equal(delta.value, e):\n",
    "            break\n",
    "    else:\n",
    "        solutions.append(delta.value)\n",
    "\n",
    "# show flip-flop between solution seen in the 'pass' state\n",
    "# and solution seen in the 'fail' state.\n",
    "\n",
    "# Run this cell multiple times to see the proportion of `equals_pass6`\n",
    "# and `equals_fail6` changes. I have never personally observed any \n",
    "# `other` solutions.\n",
    "print(f\"{len(solutions) = }\")"
   ]
  }
 ],
 "metadata": {
  "kernelspec": {
   "display_name": ".venv",
   "language": "python",
   "name": "python3"
  },
  "language_info": {
   "codemirror_mode": {
    "name": "ipython",
    "version": 3
   },
   "file_extension": ".py",
   "mimetype": "text/x-python",
   "name": "python",
   "nbconvert_exporter": "python",
   "pygments_lexer": "ipython3",
   "version": "3.10.9"
  },
  "orig_nbformat": 4
 },
 "nbformat": 4,
 "nbformat_minor": 2
}
